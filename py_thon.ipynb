{
  "nbformat": 4,
  "nbformat_minor": 0,
  "metadata": {
    "colab": {
      "provenance": []
    },
    "kernelspec": {
      "name": "python3",
      "display_name": "Python 3"
    },
    "language_info": {
      "name": "python"
    }
  },
  "cells": [
    {
      "cell_type": "code",
      "execution_count": 2,
      "metadata": {
        "colab": {
          "base_uri": "https://localhost:8080/"
        },
        "id": "4AnARbZ9lI-A",
        "outputId": "19739861-e2f2-4eb3-d52e-defc4413659a"
      },
      "outputs": [
        {
          "output_type": "stream",
          "name": "stdout",
          "text": [
            "240 18\n"
          ]
        }
      ],
      "source": [
        "class Vehicle:\n",
        "  def __init__(self, max_speed, mileage):\n",
        "    self.max_speed = max_speed\n",
        "    self.mileage = mileage\n",
        "\n",
        "modelX = Vehicle(240,18)\n",
        "print(modelX.max_speed, modelX.mileage)"
      ]
    },
    {
      "cell_type": "code",
      "source": [
        "class Vehicle:\n",
        "\n",
        "  def __init__(self, name, max_speed, mileage):\n",
        "    self.name = name\n",
        "    self.max_speed = max_speed\n",
        "    self.mileage = mileage\n",
        "\n",
        "class Bus(Vehicle):\n",
        "  pass\n",
        "\n",
        "School_bus = Bus(\"School Volvo\", 180, 12)\n",
        "print(\"Vehicle Name:\", School_bus.name, \"Speed:\", School_bus.max_speed, \"Mileage:\", School_bus.mileage)\n"
      ],
      "metadata": {
        "colab": {
          "base_uri": "https://localhost:8080/"
        },
        "id": "n8ddtTX9lNYT",
        "outputId": "998c1e40-8d80-4fea-cf8d-cd8783e58110"
      },
      "execution_count": 3,
      "outputs": [
        {
          "output_type": "stream",
          "name": "stdout",
          "text": [
            "Vehicle Name: School Volvo Speed: 180 Mileage: 12\n"
          ]
        }
      ]
    },
    {
      "cell_type": "code",
      "source": [
        "class Animal:\n",
        "  def __init__(self, name):\n",
        "    self.name = name\n",
        "\n",
        "  def speak(self):\n",
        "    return f\"{self.name} says hello!\"\n",
        "\n",
        "dog = Animal(\"Charlie\")\n",
        "print(dog.speak())"
      ],
      "metadata": {
        "colab": {
          "base_uri": "https://localhost:8080/"
        },
        "id": "8LadCM6jqfEa",
        "outputId": "10c4a4f9-ee82-45e4-832a-0892b271db0b"
      },
      "execution_count": 4,
      "outputs": [
        {
          "output_type": "stream",
          "name": "stdout",
          "text": [
            "Charlie says hello!\n"
          ]
        }
      ]
    },
    {
      "cell_type": "code",
      "source": [
        "class Animal:\n",
        "  def __init__(self, name):\n",
        "    self.name = name\n",
        "  def speak(self):\n",
        "    return f\"{self.name} says hello!\"\n",
        "\n",
        "class Dog(Animal):\n",
        "  def speak(self):\n",
        "    return f\"{self.name} barks!\"\n",
        "\n",
        "dog = Dog(\"Charlie\")\n",
        "print(dog.speak())"
      ],
      "metadata": {
        "colab": {
          "base_uri": "https://localhost:8080/"
        },
        "id": "77c9QFHgoOQ3",
        "outputId": "da3dcea1-bab9-418e-bf8d-48cf48512cc8"
      },
      "execution_count": 5,
      "outputs": [
        {
          "output_type": "stream",
          "name": "stdout",
          "text": [
            "Charlie barks!\n"
          ]
        }
      ]
    },
    {
      "cell_type": "code",
      "source": [
        "class Animal:\n",
        "  def __init__(self, name):\n",
        "    self.name = name\n",
        "\n",
        "  def speak(self):\n",
        "    return f\"{self.name} says hello!\"\n",
        "\n",
        "class Dog(Animal):\n",
        "  def __init__(self, name, breed):\n",
        "    super().__init__(name)\n",
        "    self.breed = breed\n",
        "\n",
        "dog = Dog(\"Charlie\", \"Bulldog\")\n",
        "print(dog.breed)"
      ],
      "metadata": {
        "colab": {
          "base_uri": "https://localhost:8080/"
        },
        "id": "KQ0NSiYKrvT6",
        "outputId": "26f0e0c8-7a5d-47c7-b1f9-0fa7f40b3e71"
      },
      "execution_count": 6,
      "outputs": [
        {
          "output_type": "stream",
          "name": "stdout",
          "text": [
            "Bulldog\n"
          ]
        }
      ]
    },
    {
      "cell_type": "code",
      "source": [
        "class Circle:\n",
        "  def __init__(self, radius):\n",
        "    self._radius = radius\n",
        "\n",
        "  @property\n",
        "  def radius(self):\n",
        "    return self._radius\n",
        "\n",
        "  @radius.setter\n",
        "  def radius(self, value):\n",
        "    if value >=0:\n",
        "      self._radius = value\n",
        "    else:\n",
        "      raise ValueError(\"Radius must be positive\")\n",
        "\n",
        "circle = Circle(5)\n",
        "print(circle.radius)\n",
        "circle.radius = 10\n",
        "print(circle.radius)\n"
      ],
      "metadata": {
        "colab": {
          "base_uri": "https://localhost:8080/"
        },
        "id": "RInD5WdBsb2I",
        "outputId": "dfdc4556-2a57-4753-c3ba-cd4612609f69"
      },
      "execution_count": 7,
      "outputs": [
        {
          "output_type": "stream",
          "name": "stdout",
          "text": [
            "5\n",
            "10\n"
          ]
        }
      ]
    },
    {
      "cell_type": "code",
      "source": [],
      "metadata": {
        "id": "aYvI_6XVtVKJ"
      },
      "execution_count": null,
      "outputs": []
    }
  ]
}