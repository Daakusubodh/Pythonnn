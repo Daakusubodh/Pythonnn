{
  "nbformat": 4,
  "nbformat_minor": 0,
  "metadata": {
    "colab": {
      "provenance": []
    },
    "kernelspec": {
      "name": "python3",
      "display_name": "Python 3"
    },
    "language_info": {
      "name": "python"
    }
  },
  "cells": [
    {
      "cell_type": "code",
      "execution_count": 19,
      "metadata": {
        "colab": {
          "base_uri": "https://localhost:8080/"
        },
        "id": "DPEql4o9b8fz",
        "outputId": "886863bd-048f-473c-d013-bc4a89e0fc18"
      },
      "outputs": [
        {
          "output_type": "stream",
          "name": "stdout",
          "text": [
            "44 is <class 'int'>\n",
            "23.5555                       \n",
            "23.55\n",
            "<class 'str'>\n",
            "<class 'str'>\n",
            "<class 'str'>\n"
          ]
        }
      ],
      "source": [
        "x=format(23.555,'.2f')\n",
        "y = format('23.5555','<30')\n",
        "z = format('23.5555','>10')\n",
        "b=44\n",
        "print(f\"44 is {type(b)}\")\n",
        "print(y)\n",
        "print(x)\n",
        "print(type(x))\n",
        "print(type(y))\n",
        "print(type(z))"
      ]
    },
    {
      "cell_type": "code",
      "source": [
        "x= \"Python is Fun\"\n",
        "print(x[-1])#last char\n",
        "print(x[-1:]) #Last one characters # print(x[-3:]) #Last Three characters\n",
        "print(x[:-1])#All except -1 char\n",
        "print(x[::-1]) #reverse\n",
        "\n",
        "\n",
        "\n"
      ],
      "metadata": {
        "colab": {
          "base_uri": "https://localhost:8080/"
        },
        "id": "0AEQAsPacKkU",
        "outputId": "f893b76b-6f74-4514-9620-6fdce98d1d74"
      },
      "execution_count": 16,
      "outputs": [
        {
          "output_type": "stream",
          "name": "stdout",
          "text": [
            "n\n",
            "n\n",
            "Fun\n",
            "Python is Fu\n",
            "nuF si nohtyP\n"
          ]
        }
      ]
    },
    {
      "cell_type": "code",
      "source": [
        "x=6\n",
        "y=8\n",
        "print(12&10)\n",
        "print(x&y)"
      ],
      "metadata": {
        "colab": {
          "base_uri": "https://localhost:8080/"
        },
        "id": "OAzJGWU2eEir",
        "outputId": "b1d40e1e-c632-40ef-b955-0acc1896b951"
      },
      "execution_count": 23,
      "outputs": [
        {
          "output_type": "stream",
          "name": "stdout",
          "text": [
            "8\n",
            "0\n"
          ]
        }
      ]
    },
    {
      "cell_type": "code",
      "source": [
        "import math\n",
        "#ax*x + b*x + c\n",
        "a=int(input(\"Please provide a \"))\n",
        "b= int(input(\"Please provide b \"))\n",
        "c= int(input(\"Please provide c \"))\n",
        "discriminant = b**2 - 4*a*c\n",
        "if discriminant > 0:\n",
        "  roots = (math.sqrt(b**2-4*a*c)/(2*a))\n",
        "  first_solution = -b + roots\n",
        "  second_solution = -b - roots\n",
        "  print(f\"First solution : {first_solution}\")\n",
        "  print(f\"second solution : {second_solution}\")\n",
        "else:\n",
        "  print(\"The equation has no real solution\")"
      ],
      "metadata": {
        "colab": {
          "base_uri": "https://localhost:8080/"
        },
        "id": "69VuUuRsrOGh",
        "outputId": "79646dce-00aa-4a53-f3f8-78bafc4aa8f3"
      },
      "execution_count": 31,
      "outputs": [
        {
          "output_type": "stream",
          "name": "stdout",
          "text": [
            "Please provide a 2\n",
            "Please provide b 8\n",
            "Please provide c 2\n",
            "First solution : -6.267949192431123\n",
            "second solution : -9.732050807568877\n"
          ]
        }
      ]
    },
    {
      "cell_type": "code",
      "source": [
        "class school(self, name, grade, accounts)"
      ],
      "metadata": {
        "id": "FT1cdxbBvf1N"
      },
      "execution_count": null,
      "outputs": []
    }
  ]
}