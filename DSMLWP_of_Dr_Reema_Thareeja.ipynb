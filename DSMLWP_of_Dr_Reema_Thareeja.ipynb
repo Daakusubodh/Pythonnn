{
  "nbformat": 4,
  "nbformat_minor": 0,
  "metadata": {
    "colab": {
      "provenance": []
    },
    "kernelspec": {
      "name": "python3",
      "display_name": "Python 3"
    },
    "language_info": {
      "name": "python"
    }
  },
  "cells": [
    {
      "cell_type": "markdown",
      "source": [
        "Q1. Write a program to calculate BMI of a person"
      ],
      "metadata": {
        "id": "fQL8I7kJLY0F"
      }
    },
    {
      "cell_type": "code",
      "source": [
        "x = input(\"Enter your weight in kg: \")\n",
        "y = input(\"Enter your height in m: \")\n",
        "BMI = float(x)/float(y)**2\n",
        "print(\"Your BMI is\", BMI)"
      ],
      "metadata": {
        "colab": {
          "base_uri": "https://localhost:8080/"
        },
        "id": "NOb_qh_QLtYB",
        "outputId": "e15dbcd5-6439-4b09-ffcb-c633f1f70c03"
      },
      "execution_count": null,
      "outputs": [
        {
          "output_type": "stream",
          "name": "stdout",
          "text": [
            "Enter your weight in kg: 10\n",
            "Enter your height in m: 2\n",
            "Your BMI is 2.5\n"
          ]
        }
      ]
    },
    {
      "cell_type": "markdown",
      "source": [
        "Q2. String Concatenate"
      ],
      "metadata": {
        "id": "Pvb4ZyvcMO0O"
      }
    },
    {
      "cell_type": "code",
      "source": [
        "x = input(\"Enter string 1  \")\n",
        "y = input(\"Enter string 2  \")\n",
        "concat= x+y\n",
        "print(\"Concatenated string is \", concat)"
      ],
      "metadata": {
        "colab": {
          "base_uri": "https://localhost:8080/"
        },
        "id": "f5ihpb6jM2m2",
        "outputId": "f71d371a-8b69-44dd-8e49-c7958a985a03"
      },
      "execution_count": null,
      "outputs": [
        {
          "output_type": "stream",
          "name": "stdout",
          "text": [
            "Enter string 1  asd\n",
            "Enter string 2  sdfd\n",
            "Concatenated string is  asdsdfd\n"
          ]
        }
      ]
    },
    {
      "cell_type": "markdown",
      "source": [
        "Q3. single , double , triple quotes. Q4. ASCII VALUE OF A CHARACTER Q5. change A UPPERCASE AND TURN IT TO LOWERCASE"
      ],
      "metadata": {
        "id": "1ieukraINDv1"
      }
    },
    {
      "cell_type": "code",
      "source": [
        "print(\"'ola' '''hello'''\")\n",
        "print('\"ola\"')\n",
        "ascii = input(\"give a charcter in upper case find the ascii value and get the lowecase\")\n",
        "print(f\"Your ascii value of {ascii} is , {ord(ascii)}, and the lower case character is {ascii.lower()}\")"
      ],
      "metadata": {
        "colab": {
          "base_uri": "https://localhost:8080/"
        },
        "id": "hCGptNwxNm_L",
        "outputId": "c31cbdad-37ac-4bca-998d-359ba469f41d"
      },
      "execution_count": null,
      "outputs": [
        {
          "output_type": "stream",
          "name": "stdout",
          "text": [
            "'ola' '''hello'''\n",
            "\"ola\"\n",
            "give a charcter in upper case find the ascii value and get the lowecaseU\n",
            "Your ascii value of U is , 85, and the lower case character is u\n"
          ]
        }
      ]
    },
    {
      "cell_type": "markdown",
      "source": [
        "Q6, swap two number using a temporarty variable"
      ],
      "metadata": {
        "id": "ybmvir1lN5L3"
      }
    },
    {
      "cell_type": "code",
      "source": [
        "a=4\n",
        "b=a\n",
        "c=5\n",
        "a=c\n",
        "c=b\n",
        "print(a,b)\n"
      ],
      "metadata": {
        "colab": {
          "base_uri": "https://localhost:8080/"
        },
        "id": "mtvJKvveQE7L",
        "outputId": "f8d8964b-0f82-4ef8-fef0-420147dff9e6"
      },
      "execution_count": null,
      "outputs": [
        {
          "output_type": "stream",
          "name": "stdout",
          "text": [
            "5 4\n"
          ]
        }
      ]
    },
    {
      "cell_type": "markdown",
      "source": [
        "7.take a address input and break it into multiple line\n",
        "8. calculate Simple and compound interest\n",
        "9.input x and y and print x to the power y"
      ],
      "metadata": {
        "id": "VkdoO2ffS9Lg"
      }
    },
    {
      "cell_type": "code",
      "source": [
        "address = input(\"Please give your address:  \")\n",
        "for word in address.split():\n",
        "  print(word)"
      ],
      "metadata": {
        "id": "hx6WMW-Mkbil",
        "outputId": "ce5b403b-d734-4c4e-df93-93aeef8674f9",
        "colab": {
          "base_uri": "https://localhost:8080/"
        }
      },
      "execution_count": null,
      "outputs": [
        {
          "output_type": "stream",
          "name": "stdout",
          "text": [
            "Please give your address:  kalanki kathmandu nepal\n",
            "kalanki\n",
            "kathmandu\n",
            "nepal\n"
          ]
        }
      ]
    },
    {
      "cell_type": "code",
      "source": [
        "#i=ptr/100\n",
        "p = int(input(\"Input principal:  \"))\n",
        "t = int(input(\"Input time:  \"))\n",
        "r = int(input(\"Input rate:  \"))\n",
        "interest = (p*t*r)/100\n",
        "print(\"The interest is, \",interest)"
      ],
      "metadata": {
        "id": "Apg57ucElOa7",
        "outputId": "99ea85fb-4fbf-44f9-b00f-c9455b6d33de",
        "colab": {
          "base_uri": "https://localhost:8080/"
        }
      },
      "execution_count": null,
      "outputs": [
        {
          "output_type": "stream",
          "name": "stdout",
          "text": [
            "Input principal:  100\n",
            "Input time:  2\n",
            "Input rate:  2\n",
            "The interest is,  4.0\n"
          ]
        }
      ]
    },
    {
      "cell_type": "markdown",
      "source": [
        "NO.9,10 x^y and greetings first name , last name"
      ],
      "metadata": {
        "id": "emXz_uF5n1ZN"
      }
    },
    {
      "cell_type": "code",
      "source": [
        "x = int(input(\"please give an int\"))\n",
        "y = int(input(\"please give an int\"))\n",
        "print(f\"x^y is {x**y}\")\n",
        "f_name,l_name= input(\"first name and last name\").split()\n",
        "print(f\"Greetings {f_name} {l_name}\")"
      ],
      "metadata": {
        "id": "8_M2eFCZTwX6",
        "outputId": "f529f3f0-267c-4ca5-a5b2-d3b2984333d6",
        "colab": {
          "base_uri": "https://localhost:8080/"
        }
      },
      "execution_count": 4,
      "outputs": [
        {
          "output_type": "stream",
          "name": "stdout",
          "text": [
            "please give an int2\n",
            "please give an int3\n",
            "x^y is 8\n",
            "first name and last namesubodh ghimire\n",
            "Greetings subodh ghimire\n"
          ]
        }
      ]
    },
    {
      "cell_type": "markdown",
      "source": [
        "salary"
      ],
      "metadata": {
        "id": "leBwbuShT_Q9"
      }
    },
    {
      "cell_type": "code",
      "source": [
        "b_pay = int(input(\"enter your basic pay\"))\n",
        "HRA = 0.1 * b_pay\n",
        "TA = 0.05 * b_pay\n",
        "print(f\"Your salar is {b_pay + HRA + TA}\")"
      ],
      "metadata": {
        "id": "K2UID2xnhFIc",
        "outputId": "9b99d094-9166-474c-ab67-cfa74a0beff4",
        "colab": {
          "base_uri": "https://localhost:8080/"
        }
      },
      "execution_count": 5,
      "outputs": [
        {
          "output_type": "stream",
          "name": "stdout",
          "text": [
            "enter your basic pay500\n",
            "Your salar is 575.0\n"
          ]
        }
      ]
    },
    {
      "cell_type": "markdown",
      "source": [
        "Bill\n"
      ],
      "metadata": {
        "id": "qbPzEGMghlpG"
      }
    },
    {
      "cell_type": "code",
      "source": [
        "total=0\n",
        "x = \"\"\n",
        "i = \"yes\"\n",
        "\n",
        "\n",
        "while(i==\"yes\"):\n",
        "  i_name = input(\"enter the name of the item: \")\n",
        "  i_quant = int(input(\"quantity of the purchase item: \"))\n",
        "  i_price = float(input(\"price of the input: \"))\n",
        "  total += i_quant*i_price\n",
        "  x+=(f\"{i_quant}                  {i_quant*i_price}\\n\")\n",
        "  i = input(\"Type yes if you want to contiue\")\n",
        "print(\"************* BILL **********\")\n",
        "print(\"Item Quantity     Price Amount\")\n",
        "print(x)\n",
        "print(\"Total Amount to be paid\",total )\n",
        "print(\"*****************************\")"
      ],
      "metadata": {
        "id": "e8sV50o2h0Vn",
        "outputId": "c61c6c5d-90e6-4954-efe4-941fc3d35707",
        "colab": {
          "base_uri": "https://localhost:8080/"
        }
      },
      "execution_count": 15,
      "outputs": [
        {
          "output_type": "stream",
          "name": "stdout",
          "text": [
            "enter the name of the item: soap\n",
            "quantity of the purchase item: 2\n",
            "price of the input: 2\n",
            "Type yes if you want to contiueyes\n",
            "enter the name of the item: choclate\n",
            "quantity of the purchase item: 2\n",
            "price of the input: 2\n",
            "Type yes if you want to contiueno\n",
            "************* BILL **********\n",
            "Item Quantity     Price Amount\n",
            "2                  4.0\n",
            "2                  4.0\n",
            "\n",
            "Total Amount to be paid 8.0\n",
            "*****************************\n"
          ]
        }
      ]
    },
    {
      "cell_type": "code",
      "source": [],
      "metadata": {
        "id": "7XrmbEKljh5d"
      },
      "execution_count": null,
      "outputs": []
    }
  ]
}