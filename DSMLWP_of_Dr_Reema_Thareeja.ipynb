{
  "nbformat": 4,
  "nbformat_minor": 0,
  "metadata": {
    "colab": {
      "provenance": []
    },
    "kernelspec": {
      "name": "python3",
      "display_name": "Python 3"
    },
    "language_info": {
      "name": "python"
    }
  },
  "cells": [
    {
      "cell_type": "markdown",
      "source": [
        "Q1. Write a program to calculate BMI of a person"
      ],
      "metadata": {
        "id": "fQL8I7kJLY0F"
      }
    },
    {
      "cell_type": "code",
      "source": [
        "x = input(\"Enter your weight in kg: \")\n",
        "y = input(\"Enter your height in m: \")\n",
        "BMI = float(x)/float(y)**2\n",
        "print(\"Your BMI is\", BMI)"
      ],
      "metadata": {
        "colab": {
          "base_uri": "https://localhost:8080/"
        },
        "id": "NOb_qh_QLtYB",
        "outputId": "e15dbcd5-6439-4b09-ffcb-c633f1f70c03"
      },
      "execution_count": null,
      "outputs": [
        {
          "output_type": "stream",
          "name": "stdout",
          "text": [
            "Enter your weight in kg: 10\n",
            "Enter your height in m: 2\n",
            "Your BMI is 2.5\n"
          ]
        }
      ]
    },
    {
      "cell_type": "markdown",
      "source": [
        "Q2. String Concatenate"
      ],
      "metadata": {
        "id": "Pvb4ZyvcMO0O"
      }
    },
    {
      "cell_type": "code",
      "source": [
        "x = input(\"Enter string 1  \")\n",
        "y = input(\"Enter string 2  \")\n",
        "concat= x+y\n",
        "print(\"Concatenated string is \", concat)"
      ],
      "metadata": {
        "colab": {
          "base_uri": "https://localhost:8080/"
        },
        "id": "f5ihpb6jM2m2",
        "outputId": "f71d371a-8b69-44dd-8e49-c7958a985a03"
      },
      "execution_count": null,
      "outputs": [
        {
          "output_type": "stream",
          "name": "stdout",
          "text": [
            "Enter string 1  asd\n",
            "Enter string 2  sdfd\n",
            "Concatenated string is  asdsdfd\n"
          ]
        }
      ]
    },
    {
      "cell_type": "markdown",
      "source": [
        "Q3. single , double , triple quotes. Q4. ASCII VALUE OF A CHARACTER Q5. change A UPPERCASE AND TURN IT TO LOWERCASE"
      ],
      "metadata": {
        "id": "1ieukraINDv1"
      }
    },
    {
      "cell_type": "code",
      "source": [
        "print(\"'ola' '''hello'''\")\n",
        "print('\"ola\"')\n",
        "ascii = input(\"give a charcter in upper case find the ascii value and get the lowecase\")\n",
        "print(f\"Your ascii value of {ascii} is , {ord(ascii)}, and the lower case character is {ascii.lower()}\")"
      ],
      "metadata": {
        "colab": {
          "base_uri": "https://localhost:8080/"
        },
        "id": "hCGptNwxNm_L",
        "outputId": "c31cbdad-37ac-4bca-998d-359ba469f41d"
      },
      "execution_count": null,
      "outputs": [
        {
          "output_type": "stream",
          "name": "stdout",
          "text": [
            "'ola' '''hello'''\n",
            "\"ola\"\n",
            "give a charcter in upper case find the ascii value and get the lowecaseU\n",
            "Your ascii value of U is , 85, and the lower case character is u\n"
          ]
        }
      ]
    },
    {
      "cell_type": "markdown",
      "source": [
        "Q6, swap two number using a temporarty variable"
      ],
      "metadata": {
        "id": "ybmvir1lN5L3"
      }
    },
    {
      "cell_type": "code",
      "source": [
        "a=4\n",
        "b=a\n",
        "c=5\n",
        "a=c\n",
        "c=b\n",
        "print(a,b)\n"
      ],
      "metadata": {
        "colab": {
          "base_uri": "https://localhost:8080/"
        },
        "id": "mtvJKvveQE7L",
        "outputId": "f8d8964b-0f82-4ef8-fef0-420147dff9e6"
      },
      "execution_count": null,
      "outputs": [
        {
          "output_type": "stream",
          "name": "stdout",
          "text": [
            "5 4\n"
          ]
        }
      ]
    },
    {
      "cell_type": "markdown",
      "source": [
        "7.take a address input and break it into multiple line\n",
        "8. calculate Simple and compound interest\n",
        "9.input x and y and print x to the power y"
      ],
      "metadata": {
        "id": "VkdoO2ffS9Lg"
      }
    },
    {
      "cell_type": "code",
      "source": [
        "address = input(\"Please give your address:  \")\n",
        "for word in address.split():\n",
        "  print(word)"
      ],
      "metadata": {
        "id": "hx6WMW-Mkbil",
        "outputId": "ce5b403b-d734-4c4e-df93-93aeef8674f9",
        "colab": {
          "base_uri": "https://localhost:8080/"
        }
      },
      "execution_count": 3,
      "outputs": [
        {
          "output_type": "stream",
          "name": "stdout",
          "text": [
            "Please give your address:  kalanki kathmandu nepal\n",
            "kalanki\n",
            "kathmandu\n",
            "nepal\n"
          ]
        }
      ]
    },
    {
      "cell_type": "code",
      "source": [
        "#i=ptr/100\n",
        "p = int(input(\"Input principal:  \"))\n",
        "t = int(input(\"Input time:  \"))\n",
        "r = int(input(\"Input rate:  \"))\n",
        "interest = (p*t*r)/100\n",
        "print(\"The interest is, \",interest)"
      ],
      "metadata": {
        "id": "Apg57ucElOa7",
        "outputId": "99ea85fb-4fbf-44f9-b00f-c9455b6d33de",
        "colab": {
          "base_uri": "https://localhost:8080/"
        }
      },
      "execution_count": 5,
      "outputs": [
        {
          "output_type": "stream",
          "name": "stdout",
          "text": [
            "Input principal:  100\n",
            "Input time:  2\n",
            "Input rate:  2\n",
            "The interest is,  4.0\n"
          ]
        }
      ]
    },
    {
      "cell_type": "code",
      "source": [
        "2"
      ],
      "metadata": {
        "id": "emXz_uF5n1ZN"
      },
      "execution_count": null,
      "outputs": []
    }
  ]
}