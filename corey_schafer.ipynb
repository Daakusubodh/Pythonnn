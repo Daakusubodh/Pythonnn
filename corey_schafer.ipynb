{
  "nbformat": 4,
  "nbformat_minor": 0,
  "metadata": {
    "colab": {
      "provenance": []
    },
    "kernelspec": {
      "name": "python3",
      "display_name": "Python 3"
    },
    "language_info": {
      "name": "python"
    }
  },
  "cells": [
    {
      "cell_type": "code",
      "execution_count": 9,
      "metadata": {
        "colab": {
          "base_uri": "https://localhost:8080/"
        },
        "id": "v2xJEGhPq1S6",
        "outputId": "2bd30543-a1fb-4002-e127-1b81e37b2b94"
      },
      "outputs": [
        {
          "output_type": "stream",
          "name": "stdout",
          "text": [
            "subodh subodhghimire7@gmail.com kathmandu\n"
          ]
        }
      ],
      "source": [
        "class employee():\n",
        "  def __init__(self,name, email, address):\n",
        "    self.name = name\n",
        "    self.email = email\n",
        "    self.address = address\n",
        "\n",
        "  def say_hi()\n",
        "\n",
        "subodh = employee(\"subodh\", \"subodhghimire7@gmail.com\", \"kathmandu\")\n",
        "print(subodh.name, subodh.email, subodh.address)\n"
      ]
    },
    {
      "cell_type": "code",
      "source": [
        "class Vehicle():\n",
        "  def __init__(self, max_speed, mileage):\n",
        "    self.max_speed = max_speed\n",
        "    self.mileage = mileage\n",
        "\n",
        "modelX = Vehicle(240,18)\n",
        "print(modelX.max_speed, modelX.mileage)"
      ],
      "metadata": {
        "colab": {
          "base_uri": "https://localhost:8080/"
        },
        "id": "mU2qfwrksAA9",
        "outputId": "f3fec8db-0ec5-4d75-ec6a-333b37c17b29"
      },
      "execution_count": 11,
      "outputs": [
        {
          "output_type": "stream",
          "name": "stdout",
          "text": [
            "240 18\n"
          ]
        }
      ]
    },
    {
      "cell_type": "code",
      "source": [
        "class Bus(Vehicle):\n",
        "  pass"
      ],
      "metadata": {
        "id": "Thmz4A1PvmhP"
      },
      "execution_count": 13,
      "outputs": []
    },
    {
      "cell_type": "code",
      "source": [],
      "metadata": {
        "id": "7Cag6Abuv9Jn"
      },
      "execution_count": null,
      "outputs": []
    }
  ]
}